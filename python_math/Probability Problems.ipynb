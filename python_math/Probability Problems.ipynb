{
 "cells": [
  {
   "cell_type": "markdown",
   "metadata": {},
   "source": [
    "# Probability with Urns"
   ]
  },
  {
   "cell_type": "markdown",
   "metadata": {},
   "source": [
    "In this notebook we will demonstrate some basic properties of probabilities using some urn problems. These problems\n",
    "are taken from *Probability Theory: A Concise Course* by Y.A. Rozanov. First, we will answer the urn problems, then \n",
    "we will prove the answers using python."
   ]
  },
  {
   "cell_type": "markdown",
   "metadata": {},
   "source": [
    "Problem 1.12: The word \"drawer\" is spelled with 6 scrabble tiles. What is the probability that the tiles will spell \"reward\"\n",
    "after they are randomly re-arranged."
   ]
  },
  {
   "cell_type": "markdown",
   "metadata": {},
   "source": [
    "There are 6! different possible orderings of the 6 tiles. since the letter r occurs twice, there are 2! different ways of \n",
    "spelling reward. Therefor, the probability of spelling reward after randomly arranging the 6 tiles is 2!/6! = 1/360 = 0.0028"
   ]
  },
  {
   "cell_type": "code",
   "execution_count": 22,
   "metadata": {},
   "outputs": [
    {
     "name": "stdout",
     "output_type": "stream",
     "text": [
      "expected: 0.002778 observed: 0.002600\n"
     ]
    }
   ],
   "source": [
    "drawer = ['d', 'r', 'a', 'w', 'e', 'r']\n",
    "rewards = 0\n",
    "for i in np.arange(10000):\n",
    "    np.random.shuffle(drawer)\n",
    "    rewards += drawer == ['r', 'e', 'w', 'a', 'r', 'd']\n",
    "print('expected: %f observed: %f' % (1/360, rewards/10000))"
   ]
  },
  {
   "cell_type": "markdown",
   "metadata": {},
   "source": [
    "Problem 2.11: A secretary forgets the last digit of a phone number, so she dials the last number at random. What is the probability of her dialing no more than 3 wrong numbers?"
   ]
  },
  {
   "cell_type": "markdown",
   "metadata": {},
   "source": [
    "The probability of her dialing no more than 3 wrong numbers equals 1 minus the probability that she dials the correct number \n",
    "in her first 3 tries. There are 10! ways for the secretary to dial the numbers, and 3 * 9! ways for the numbers to be arranged in a way such that she calls the correct number in the first 3 tries. Therefor, the probability that the dials no more than 3 wrong numbers is 1 - (3 * 9! / 10!) = 1 - (3/10) which equals 70%."
   ]
  },
  {
   "cell_type": "markdown",
   "metadata": {},
   "source": [
    "Problem 3.5: A random variable $\\xi$ has the following distribution for k > 0\n",
    "$$p_\\xi(x) = \\begin{cases}\n",
    "        ax^2e^{-kx} \\text{ when }x \\in [0,\\infty)\n",
    "        \\\\\n",
    "        0 \\text{ otherwise}\n",
    "        \\end{cases}$$\n",
    "a) find the constant a\n",
    "b) find the distribution function of $\\xi$\n",
    "c) find the $P\\{0 \\leq \\xi < 1/k\\}$"
   ]
  },
  {
   "cell_type": "markdown",
   "metadata": {},
   "source": [
    "a) $\\int_{0}^{\\infty} ax^2e^{-kx}dx = 1$\n",
    "We need to use integration by parts to solve this integral\n",
    "$$\\int ax^2e^{-kx}dx = \\frac{-ax^2e^{-kx}}{k} - \\int \\frac{-2axe^{-kx}}{k} = \\frac{-ax^2e^{-kx}}{k} - \\frac{2axe^{-kx}}{k^2} - \\frac{2ae^{-kx}}{k^3} $$\n",
    "so\n",
    "$$ 0 - (-a/k - 2a/k^2 - 2a/k^3) = 1 $$\n",
    "$$ a(k^2 + 2k + 2) = k^3 $$\n",
    "$$ a = k^3/(k^2 + 2k + 2) $$"
   ]
  },
  {
   "cell_type": "markdown",
   "metadata": {},
   "source": [
    "b) The probability distribution function is the probability that $\\xi$ is less than x\n",
    "$$P\\{\\xi \\leq x\\} = \\int_{0}^{x} ax^2e^{-kx}dx $$ \n",
    "$$ = a e^{-k x} (\\frac{-2}{k^3} - \\frac{2 x}{k^2} - \\frac{x^2}{k}) \\text{ evaluated from x to 0} $$\n",
    "$$ = a e^{-k x} (\\frac{-2}{k^3} - \\frac{2 x}{k^2} - \\frac{x^2}{k}) + \\frac{2a}{k^3} $$"
   ]
  },
  {
   "cell_type": "markdown",
   "metadata": {},
   "source": [
    "c)$$P\\{\\xi \\leq \\frac{1}{k}\\} =  a e^{-k \\frac{1}{k}} (\\frac{-2}{k^3} - \\frac{2 \\frac{1}{k}}{k^2} - \\frac{\\frac{1}{k}^2}{k}) + \\frac{2a}{k^3}  $$\n",
    "$$ =  a\\frac{2 - 5e}{k^3}$$"
   ]
  }
 ],
 "metadata": {
  "kernelspec": {
   "display_name": "Python 3",
   "language": "python",
   "name": "python3"
  },
  "language_info": {
   "codemirror_mode": {
    "name": "ipython",
    "version": 3
   },
   "file_extension": ".py",
   "mimetype": "text/x-python",
   "name": "python",
   "nbconvert_exporter": "python",
   "pygments_lexer": "ipython3",
   "version": "3.6.0"
  }
 },
 "nbformat": 4,
 "nbformat_minor": 2
}
